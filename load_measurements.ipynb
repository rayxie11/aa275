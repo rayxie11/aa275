{
 "cells": [
  {
   "cell_type": "code",
   "execution_count": 1,
   "metadata": {},
   "outputs": [],
   "source": [
    "%load_ext autoreload\n",
    "%autoreload 2\n",
    "import pandas as pd\n",
    "import numpy as np\n",
    "import pickle\n",
    "from utils import lla2enu, ecef2enu, get_google_data, find_nearest_time, find_nearest_pos, quat2euler"
   ]
  },
  {
   "cell_type": "markdown",
   "metadata": {},
   "source": [
    "## GPS and IMU measurements"
   ]
  },
  {
   "cell_type": "code",
   "execution_count": null,
   "metadata": {},
   "outputs": [],
   "source": [
    "# read IMU data\n",
    "imu_path = \"../data/csv_data/imu.csv\"\n",
    "imu = pd.read_csv(imu_path)\n",
    "imu['rosbagTimestamp'] = imu['secs']*int(1e9) + imu['nsecs']\n",
    "imu = imu.drop(['header', 'seq', 'stamp', 'secs', 'nsecs'], axis=1)\n",
    "\n",
    "imu.rename(columns={'frame_id':'has_imu', 'rosbagTimestamp':'time'}, inplace=True)\n",
    "imu['has_imu'] = True\n",
    "\n",
    "imu.rename(columns={f'{i}': f'imu_{i}' for i in ['ang_vel_x', 'ang_vel_y', 'ang_vel_z', 'lin_acc_x', 'lin_acc_y', 'lin_acc_z']}, inplace=True)\n",
    "\n",
    "imu"
   ]
  },
  {
   "cell_type": "code",
   "execution_count": null,
   "metadata": {},
   "outputs": [],
   "source": [
    "# read GPS data\n",
    "gps_path = '../data/csv_data/gps.csv'\n",
    "gps = pd.read_csv(gps_path)\n",
    "gps.drop(['header', 'seq', 'stamp', 'secs', 'nsecs', 'status', 'status.1', 'service', 'position_covariance', 'position_covariance_type'], axis=1, inplace=True)\n",
    "gps.rename(columns={'frame_id':'has_gps', 'rosbagTimestamp':'time'}, inplace=True)\n",
    "gps['has_gps'] = True\n",
    "\n",
    "# convert to local ECEF (linearized around ORIGIN_LAT, ORIGIN_LON, ORIGIN_ALT defined in utils.py)\n",
    "gps[['gps_pos_x', 'gps_pos_y', 'gps_pos_z']] = gps.apply(lambda row: lla2enu(row.latitude, row.longitude, row.altitude), axis=1, result_type='expand')\n",
    "gps.drop(['latitude', 'longitude', 'altitude'], axis=1, inplace=True)\n",
    "\n",
    "gps"
   ]
  },
  {
   "cell_type": "code",
   "execution_count": null,
   "metadata": {},
   "outputs": [],
   "source": [
    "# merge GPS and IMU\n",
    "meas = pd.concat([gps, imu]).sort_values('time')\n",
    "meas = meas.groupby('time').aggregate(max).reset_index()\n",
    "\n",
    "meas"
   ]
  },
  {
   "cell_type": "markdown",
   "metadata": {},
   "source": [
    "## Google maps"
   ]
  },
  {
   "cell_type": "code",
   "execution_count": null,
   "metadata": {},
   "outputs": [],
   "source": [
    "google = get_google_data('../data/map_to_gpx.gpx', alt=np.zeros(500000)).T\n",
    "road = pd.DataFrame({'road_lat':google[0], 'road_lon':google[1], 'road_alt':google[2]})\n",
    "road[['road_x', 'road_y', 'road_z']] = road.apply(lambda row: ecef2enu(row.road_lat, row.road_lon, row.road_alt), axis=1, result_type='expand')\n",
    "road.drop(['road_lat', 'road_lon', 'road_alt'], axis=1, inplace=True)\n",
    "road.diff().describe()"
   ]
  },
  {
   "cell_type": "markdown",
   "metadata": {},
   "source": [
    "## Camera data"
   ]
  },
  {
   "cell_type": "code",
   "execution_count": null,
   "metadata": {},
   "outputs": [],
   "source": [
    "with open(\"../data/deviation_from_center\", \"rb\") as fp:\n",
    "    dev_from_center = pickle.load(fp)\n",
    "    dev_from_center = pd.DataFrame({'delta':dev_from_center})\n",
    "    dev_from_center = pd.DataFrame({'delta':dev_from_center.apply(lambda row: row.delta * (3.05/3.5), axis=1)}) # BUG: Quick fix for wrong LW in utils.py\n",
    "\n",
    "with open(\"../data/img_data_dir\", \"rb\") as fp:\n",
    "    cam_timestamps = pickle.load(fp)\n",
    "    cam_timestamps = [int(cam_timestamp.split('.')[0])*1000 for cam_timestamp in cam_timestamps]\n",
    "    cam_timestamps = pd.DataFrame({'cam_timestamps':cam_timestamps})\n",
    "\n",
    "cam_times = find_nearest_time(gps['time'], cam_timestamps['cam_timestamps'])\n",
    "cam_times['has_cam'] = True\n",
    "cam = cam_times.join(dev_from_center).sort_values('time')\n",
    "\n",
    "cam"
   ]
  },
  {
   "cell_type": "code",
   "execution_count": null,
   "metadata": {},
   "outputs": [],
   "source": [
    "cam_pos = gps.merge(cam, on='time')[['time', 'gps_pos_x', 'gps_pos_y']]\n",
    "centerlane = find_nearest_pos(road['road_x'], road['road_y'], cam_pos['gps_pos_x'], cam_pos['gps_pos_y'])\n",
    "cam_pos = cam_pos.join(centerlane).drop(['gps_pos_x', 'gps_pos_y'], axis=1)\n",
    "cam = cam.merge(cam_pos, on='time')\n",
    "\n",
    "cam"
   ]
  },
  {
   "cell_type": "code",
   "execution_count": null,
   "metadata": {},
   "outputs": [],
   "source": [
    "# Add current lane, LANEWIDTH, number of lanes\n",
    "\n",
    "# Hand-labeled from images\n",
    "idxs  = np.array([0, 242, 250, 761, 794, 838, 872, 1098, 1130, 1724, 1751, 2215, 2291, 2943, 3509, 3607, 4877]) # frame index where a lane change happens\n",
    "lanes = np.array([     1, 0.5,   0,   0,   1,   0,    0,    1,    0,  0.5,    1,    0,    1,    0,    1,    2]) # lane the car is in, rightmost=0\n",
    "lens  = np.diff(idxs)\n",
    "curr_lane = np.empty(0)\n",
    "for le, lane in zip(lens, lanes):\n",
    "    curr_lane = np.hstack((curr_lane, np.ones(le)*lane))\n",
    "cam['curr_lane'] = curr_lane\n",
    "cam['LANEWIDTH'] = 3.05\n",
    "cam['n_lanes']   = 3\n",
    "\n",
    "cam"
   ]
  },
  {
   "cell_type": "code",
   "execution_count": null,
   "metadata": {},
   "outputs": [],
   "source": [
    "# Add camera data to meas\n",
    "meas = meas.join(cam.set_index('time'), on='time')\n",
    "meas = meas.fillna(value={\"has_cam\": False})\n",
    "meas['has_cam'] = meas.apply(lambda row: False if np.isnan(row.delta) else True, axis=1)\n",
    "\n",
    "meas"
   ]
  },
  {
   "cell_type": "markdown",
   "metadata": {},
   "source": [
    "## Add heading data"
   ]
  },
  {
   "cell_type": "code",
   "execution_count": 10,
   "metadata": {},
   "outputs": [],
   "source": [
    "# read pose_raw data\n",
    "pose_path = '../data/csv_data/pose_raw.csv'\n",
    "pose = pd.read_csv(pose_path)\n",
    "pose.drop(['header', 'seq', 'stamp', 'secs', 'nsecs', 'frame_id', 'pose', 'position','orientation'], axis=1, inplace=True)\n",
    "pose.rename(columns={'rosbagTimestamp':'time'}, inplace=True)\n",
    "pose = pose.drop(['x', 'y', 'z'], axis=1)\n",
    "pose.rename(columns={'x.1':'qx', 'y.1':'qy','z.1':'qz', 'w':'qw'}, inplace=True)\n",
    "pose[['gps_ang_theta', 'gps_ang_phi', 'gps_ang_varphi']] = pose.apply(lambda row: quat2euler((row.qx, row.qy, row.qz, row.qw)), axis=1, result_type='expand')\n",
    "pose = pose.drop(['qx', 'qy', 'qz', 'qw'], axis=1)\n",
    "pose['has_angle'] = True\n",
    "\n",
    "pose"
   ]
  },
  {
   "cell_type": "code",
   "execution_count": null,
   "metadata": {},
   "outputs": [],
   "source": [
    "# Add heading data to meas\n",
    "meas = meas.join(pose.set_index('time'), on='time')\n",
    "meas = meas.fillna(value={'has_angle': False})\n",
    "\n",
    "meas"
   ]
  },
  {
   "cell_type": "code",
   "execution_count": 12,
   "metadata": {},
   "outputs": [],
   "source": [
    "meas.to_csv('../data/measurements.csv')"
   ]
  },
  {
   "cell_type": "markdown",
   "metadata": {},
   "source": [
    "## GPS ground truth"
   ]
  },
  {
   "cell_type": "code",
   "execution_count": 13,
   "metadata": {},
   "outputs": [],
   "source": [
    "gt_path = '../data/csv_data/pose_ground_truth.csv'\n",
    "gt = pd.read_csv(gt_path)[['rosbagTimestamp', 'x', 'y', 'z']]\n",
    "gt.rename(columns={'rosbagTimestamp':'time', 'x':'x_gt', 'y':'y_gt', 'z':'z_gt'}, inplace=True)\n",
    "gt.to_csv('../data/ground_truth.csv')"
   ]
  }
 ],
 "metadata": {
  "kernelspec": {
   "display_name": "Python 3.7.4 64-bit",
   "language": "python",
   "name": "python3"
  },
  "language_info": {
   "codemirror_mode": {
    "name": "ipython",
    "version": 3
   },
   "file_extension": ".py",
   "mimetype": "text/x-python",
   "name": "python",
   "nbconvert_exporter": "python",
   "pygments_lexer": "ipython3",
   "version": "3.7.4 (tags/v3.7.4:e09359112e, Jul  8 2019, 20:34:20) [MSC v.1916 64 bit (AMD64)]"
  },
  "orig_nbformat": 4,
  "vscode": {
   "interpreter": {
    "hash": "bda16085454fffa98c9100f2c54c57d69df23f7a177288cbce5d44d1ba803777"
   }
  }
 },
 "nbformat": 4,
 "nbformat_minor": 2
}
